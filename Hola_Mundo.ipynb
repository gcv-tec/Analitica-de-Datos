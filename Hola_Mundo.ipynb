{
  "nbformat": 4,
  "nbformat_minor": 0,
  "metadata": {
    "colab": {
      "provenance": [],
      "authorship_tag": "ABX9TyNA2o32Imm1lYrpFP3440pX",
      "include_colab_link": true
    },
    "kernelspec": {
      "name": "python3",
      "display_name": "Python 3"
    },
    "language_info": {
      "name": "python"
    }
  },
  "cells": [
    {
      "cell_type": "markdown",
      "metadata": {
        "id": "view-in-github",
        "colab_type": "text"
      },
      "source": [
        "<a href=\"https://colab.research.google.com/github/gcv-tec/Analitica-de-Datos/blob/main/Hola_Mundo.ipynb\" target=\"_parent\"><img src=\"https://colab.research.google.com/assets/colab-badge.svg\" alt=\"Open In Colab\"/></a>"
      ]
    },
    {
      "cell_type": "code",
      "execution_count": 4,
      "metadata": {
        "colab": {
          "base_uri": "https://localhost:8080/"
        },
        "id": "JNlrET4VgjpH",
        "outputId": "8ed8c500-3747-4e91-c5cc-ca91333574ef"
      },
      "outputs": [
        {
          "output_type": "stream",
          "name": "stdout",
          "text": [
            "Hello World\n"
          ]
        }
      ],
      "source": [
        "import pandas as pd\n",
        "import numpy as np\n",
        "import matplotlib.pyplot as plt\n",
        "import seaborn as sns\n",
        "\n",
        "print('Hello World')\n"
      ]
    },
    {
      "cell_type": "code",
      "source": [
        "#Cargar archivo cvs desde seaborn\n",
        "df = sns.load_dataset(name = 'car_crashes')"
      ],
      "metadata": {
        "id": "Nou4AEbvi2oe"
      },
      "execution_count": 5,
      "outputs": []
    },
    {
      "cell_type": "code",
      "source": [
        "#Imprimimos las primeras filas del Dataframe\n",
        "df.head(6)"
      ],
      "metadata": {
        "id": "DjxdZ4eOjKbp"
      },
      "execution_count": null,
      "outputs": []
    },
    {
      "cell_type": "code",
      "source": [
        "#Imprimimos las últimas filas del Dataframe\n",
        "df.info\n"
      ],
      "metadata": {
        "id": "gM7zI34xkemJ"
      },
      "execution_count": null,
      "outputs": []
    },
    {
      "cell_type": "markdown",
      "source": [
        "#Cargar archivo csv desde"
      ],
      "metadata": {
        "id": "WppzNtyyis7T"
      }
    }
  ]
}
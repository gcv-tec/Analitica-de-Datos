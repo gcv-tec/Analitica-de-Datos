{
  "nbformat": 4,
  "nbformat_minor": 0,
  "metadata": {
    "colab": {
      "provenance": [],
      "authorship_tag": "ABX9TyMBVYNdxZW/NH8ZzWQ+Dksc",
      "include_colab_link": true
    },
    "kernelspec": {
      "name": "python3",
      "display_name": "Python 3"
    },
    "language_info": {
      "name": "python"
    }
  },
  "cells": [
    {
      "cell_type": "markdown",
      "metadata": {
        "id": "view-in-github",
        "colab_type": "text"
      },
      "source": [
        "<a href=\"https://colab.research.google.com/github/gcv-tec/Analitica-de-Datos/blob/main/Actividad_Extracci%C3%B3n_Datos.ipynb\" target=\"_parent\"><img src=\"https://colab.research.google.com/assets/colab-badge.svg\" alt=\"Open In Colab\"/></a>"
      ]
    },
    {
      "cell_type": "code",
      "execution_count": null,
      "metadata": {
        "id": "Bod3PK5c2u0m"
      },
      "outputs": [],
      "source": []
    },
    {
      "cell_type": "code",
      "execution_count": null,
      "metadata": {
        "id": "PYQ3bRV3p0op"
      },
      "outputs": [],
      "source": [
        "#Importamos librerias requeridas\n",
        "import pandas as pd\n",
        "import numpy as np\n",
        "import matplotlib.pyplot as plt\n",
        "import seaborn as sns\n",
        "import io"
      ]
    },
    {
      "cell_type": "code",
      "source": [
        "#Cargar archivo csv desde equipo\n",
        "from google.colab import files\n",
        "files.upload()"
      ],
      "metadata": {
        "id": "ht7-e-NGq7aI"
      },
      "execution_count": null,
      "outputs": []
    },
    {
      "cell_type": "code",
      "source": [
        "#Convertir en dataframe\n",
        "df=pd.read_csv(\"file.csv\")\n",
        "df"
      ],
      "metadata": {
        "id": "xq0CguqlsuJa"
      },
      "execution_count": null,
      "outputs": []
    },
    {
      "cell_type": "code",
      "source": [
        "#Imprimimos las primeras filas o registros del Dataframe\n",
        "df.head(5)"
      ],
      "metadata": {
        "id": "d2gOSUU4tcwo"
      },
      "execution_count": null,
      "outputs": []
    },
    {
      "cell_type": "code",
      "source": [
        "#filtros por objeto\n",
        "filtro1=df[df [\"Entidad_Federativa\"] == \"Puebla\"]\n",
        "filtro1"
      ],
      "metadata": {
        "id": "cv-4Q4oRtj_B"
      },
      "execution_count": null,
      "outputs": []
    },
    {
      "cell_type": "code",
      "source": [
        "#Filtro por filas\n",
        "#filtro2=df.iloc[300:302,: ]#filas consecutivas\n",
        "filtro2=df.iloc[[1000, 2000, 3000], : ] #Filas no consecutivas\n",
        "filtro2"
      ],
      "metadata": {
        "id": "lH6joFqAvKwt"
      },
      "execution_count": null,
      "outputs": []
    },
    {
      "cell_type": "code",
      "source": [
        "#Filtro por columnas\n",
        "#filtro3=df.iloc[ : ,4:6]#Columnas consecutivas\n",
        "filtro3=df.iloc[ : ,[1, 4, 6]] #Columnas no consecutivas\n",
        "filtro3"
      ],
      "metadata": {
        "id": "x5th1T0ZxL-2"
      },
      "execution_count": null,
      "outputs": []
    },
    {
      "cell_type": "code",
      "source": [
        "#Filtro mixto (filas y columnas)\n",
        "filtro_mix = df.iloc[[10, 20, 50], 2:5]\n",
        "filtro_mix"
      ],
      "metadata": {
        "id": "2ETFhHvRzIbz"
      },
      "execution_count": null,
      "outputs": []
    },
    {
      "cell_type": "code",
      "source": [
        "#Filtro de filas vs columnas\n",
        "#Paso 1: leemos el contenido del archivo seleccionado previamente\n",
        "from google.colab import files\n",
        "uploaded=files.upload()\n",
        "df = pd.read_csv(io.BytesIO(uploaded[\"file.csv\"]),index_col=2)\n",
        "df"
      ],
      "metadata": {
        "id": "VNuJdT9bzlGq"
      },
      "execution_count": null,
      "outputs": []
    },
    {
      "cell_type": "code",
      "source": [
        "#Paso 2: Aplicamos filtro de filas vs columnas\n",
        "filtro4=df.loc[[\"Puebla\",\"Durango\"], [\"Poblacion_ocupada_en_la_industria_manufacturera\" ]]\n",
        "filtro4"
      ],
      "metadata": {
        "id": "xNM6YlmQ14JK"
      },
      "execution_count": null,
      "outputs": []
    },
    {
      "cell_type": "code",
      "source": [
        "#Filtro para comparacion\n",
        "filtro6=df[df[\"Periodo\"] >2006]\n",
        "filtro6"
      ],
      "metadata": {
        "id": "ieVNglsp5Bpp"
      },
      "execution_count": null,
      "outputs": []
    },
    {
      "cell_type": "code",
      "source": [
        "#Filtro Y\n",
        "filtro7 = df[(df['Periodo'] == 2015) & (df['Sexo'] == 'Hombres') & (df['Entidad_Federativa'] == 'Chiapas') & (df['Trimestre'] == 3)]\n",
        "filtro7"
      ],
      "metadata": {
        "id": "OtcnIU_w7uJo"
      },
      "execution_count": null,
      "outputs": []
    },
    {
      "cell_type": "code",
      "source": [
        "#Filtro o\n",
        "filtro8 = df[(df[\"Periodo\"] > 2006) | (df[\"Sexo\"] == \"Mujeres\")]\n",
        "filtro8"
      ],
      "metadata": {
        "id": "bbQMQD0F-Ata"
      },
      "execution_count": null,
      "outputs": []
    },
    {
      "cell_type": "code",
      "source": [
        "#Filtro not\n",
        "filtro9 = df[~(df[\"Periodo\"] >= 2006) & ~(df[\"Sexo\"] == \"Mujeres\")]\n",
        "filtro9"
      ],
      "metadata": {
        "id": "bIJAJNI3A7D1"
      },
      "execution_count": null,
      "outputs": []
    }
  ]
}